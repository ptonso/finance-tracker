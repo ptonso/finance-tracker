{
 "cells": [
  {
   "cell_type": "markdown",
   "metadata": {},
   "source": [
    "# Automatic cleaner for extracts\n",
    "\n",
    "- input:  `data/00_raw`\n",
    "- output: `data/01_cleaned`\n",
    "\n",
    "here we will perform everything that is fully automatic to prepare the data."
   ]
  },
  {
   "cell_type": "markdown",
   "metadata": {},
   "source": [
    "## Nubank"
   ]
  },
  {
   "cell_type": "code",
   "execution_count": 1,
   "metadata": {},
   "outputs": [
    {
     "name": "stdout",
     "output_type": "stream",
     "text": [
      "Incomplete month: 2023-07 in nubank\n",
      "\n",
      "Bank: Nubank\n",
      "  Year: 2023\n",
      "    06-JUN\n",
      "    07-JUL\n",
      "    08-AGO\n",
      "    09-SET\n",
      "    10-OUT\n",
      "    11-NOV\n",
      "    12-DEZ\n",
      "  Year: 2024\n",
      "    01-JAN\n",
      "    02-FEV\n",
      "    03-MAR\n",
      "    04-ABR\n",
      "    05-MAI\n",
      "    06-JUN\n",
      "    07-JUL\n",
      "    08-AGO\n",
      "    09-SET\n",
      "    10-OUT\n",
      "\n",
      "Bank: Inter\n"
     ]
    }
   ],
   "source": [
    "import os\n",
    "import pandas as pd\n",
    "from src.frame_csv import build_extracts_dict\n",
    "from src.clean_extract import process_nubank_df\n",
    "\n",
    "extract_base_dir=\"data/00_raw\"\n",
    "cleaned_base_dir=\"data/01_cleaned\"\n",
    "\n",
    "all_extract_dict = build_extracts_dict(extract_base_dir)\n",
    "\n",
    "nubank = all_extract_dict['nubank']\n",
    "\n",
    "os.makedirs(cleaned_base_dir, exist_ok=True)\n",
    "\n",
    "for month, monthly_df in nubank.items():\n",
    "    nubank[month] = process_nubank_df(monthly_df)\n",
    "    nubank[month].to_csv(os.path.join(cleaned_base_dir, f\"nubank_{month}.csv\"), index=False)\n"
   ]
  },
  {
   "cell_type": "code",
   "execution_count": null,
   "metadata": {},
   "outputs": [],
   "source": []
  }
 ],
 "metadata": {
  "kernelspec": {
   "display_name": "venv",
   "language": "python",
   "name": "python3"
  },
  "language_info": {
   "codemirror_mode": {
    "name": "ipython",
    "version": 3
   },
   "file_extension": ".py",
   "mimetype": "text/x-python",
   "name": "python",
   "nbconvert_exporter": "python",
   "pygments_lexer": "ipython3",
   "version": "3.10.12"
  }
 },
 "nbformat": 4,
 "nbformat_minor": 2
}
