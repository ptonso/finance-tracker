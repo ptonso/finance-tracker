{
 "cells": [
  {
   "cell_type": "markdown",
   "metadata": {},
   "source": [
    "# Data visualization and analyze\n",
    "\n",
    "here you can visualize and build dashboards from the data you already downloaded and cleaned"
   ]
  },
  {
   "cell_type": "code",
   "execution_count": 1,
   "metadata": {},
   "outputs": [],
   "source": [
    "# load your data\n",
    "from src.utils.load_data import frame_dir\n",
    "\n",
    "reconciled_dir = \"data/03--reconciled\"\n",
    "\n",
    "reconciled_df = frame_dir(reconciled_dir)"
   ]
  },
  {
   "cell_type": "code",
   "execution_count": 2,
   "metadata": {},
   "outputs": [
    {
     "data": {
      "text/html": [
       "<div>\n",
       "<style scoped>\n",
       "    .dataframe tbody tr th:only-of-type {\n",
       "        vertical-align: middle;\n",
       "    }\n",
       "\n",
       "    .dataframe tbody tr th {\n",
       "        vertical-align: top;\n",
       "    }\n",
       "\n",
       "    .dataframe thead th {\n",
       "        text-align: right;\n",
       "    }\n",
       "</style>\n",
       "<table border=\"1\" class=\"dataframe\">\n",
       "  <thead>\n",
       "    <tr style=\"text-align: right;\">\n",
       "      <th></th>\n",
       "      <th>date</th>\n",
       "      <th>bank</th>\n",
       "      <th>income</th>\n",
       "      <th>outcome</th>\n",
       "      <th>category</th>\n",
       "      <th>description</th>\n",
       "      <th>original_id</th>\n",
       "      <th>balance</th>\n",
       "      <th>type</th>\n",
       "      <th>participant</th>\n",
       "    </tr>\n",
       "  </thead>\n",
       "  <tbody>\n",
       "    <tr>\n",
       "      <th>0</th>\n",
       "      <td>2020-12-29</td>\n",
       "      <td>inter</td>\n",
       "      <td>0.0</td>\n",
       "      <td>0.0</td>\n",
       "      <td>initial balance</td>\n",
       "      <td>nan</td>\n",
       "      <td>nan</td>\n",
       "      <td>0.0</td>\n",
       "      <td>nan</td>\n",
       "      <td>nan</td>\n",
       "    </tr>\n",
       "    <tr>\n",
       "      <th>1</th>\n",
       "      <td>2020-12-29</td>\n",
       "      <td>inter</td>\n",
       "      <td>2650.0</td>\n",
       "      <td>0.0</td>\n",
       "      <td>other</td>\n",
       "      <td>doc recebido roberto edo junior 36071574803</td>\n",
       "      <td>nan</td>\n",
       "      <td>2650.0</td>\n",
       "      <td>nan</td>\n",
       "      <td>roberto edo junior 36071574803</td>\n",
       "    </tr>\n",
       "    <tr>\n",
       "      <th>2</th>\n",
       "      <td>2020-12-29</td>\n",
       "      <td>inter</td>\n",
       "      <td>0.0</td>\n",
       "      <td>0.0</td>\n",
       "      <td>reconciler-adjustment</td>\n",
       "      <td>no balance data available</td>\n",
       "      <td>nan</td>\n",
       "      <td>2650.0</td>\n",
       "      <td>nan</td>\n",
       "      <td>nan</td>\n",
       "    </tr>\n",
       "    <tr>\n",
       "      <th>3</th>\n",
       "      <td>2021-01-15</td>\n",
       "      <td>inter</td>\n",
       "      <td>25.0</td>\n",
       "      <td>0.0</td>\n",
       "      <td>allowance</td>\n",
       "      <td>transferência recebida aldo tonso</td>\n",
       "      <td>nan</td>\n",
       "      <td>2675.0</td>\n",
       "      <td>nan</td>\n",
       "      <td>aldo tonso</td>\n",
       "    </tr>\n",
       "    <tr>\n",
       "      <th>4</th>\n",
       "      <td>2021-01-15</td>\n",
       "      <td>inter</td>\n",
       "      <td>0.0</td>\n",
       "      <td>0.0</td>\n",
       "      <td>reconciler-adjustment</td>\n",
       "      <td>no balance data available</td>\n",
       "      <td>nan</td>\n",
       "      <td>2675.0</td>\n",
       "      <td>nan</td>\n",
       "      <td>nan</td>\n",
       "    </tr>\n",
       "  </tbody>\n",
       "</table>\n",
       "</div>"
      ],
      "text/plain": [
       "        date   bank  income  outcome               category  \\\n",
       "0 2020-12-29  inter     0.0      0.0        initial balance   \n",
       "1 2020-12-29  inter  2650.0      0.0                  other   \n",
       "2 2020-12-29  inter     0.0      0.0  reconciler-adjustment   \n",
       "3 2021-01-15  inter    25.0      0.0              allowance   \n",
       "4 2021-01-15  inter     0.0      0.0  reconciler-adjustment   \n",
       "\n",
       "                                   description original_id  balance type  \\\n",
       "0                                          nan         nan      0.0  nan   \n",
       "1  doc recebido roberto edo junior 36071574803         nan   2650.0  nan   \n",
       "2                    no balance data available         nan   2650.0  nan   \n",
       "3            transferência recebida aldo tonso         nan   2675.0  nan   \n",
       "4                    no balance data available         nan   2675.0  nan   \n",
       "\n",
       "                      participant  \n",
       "0                             nan  \n",
       "1  roberto edo junior 36071574803  \n",
       "2                             nan  \n",
       "3                      aldo tonso  \n",
       "4                             nan  "
      ]
     },
     "execution_count": 2,
     "metadata": {},
     "output_type": "execute_result"
    }
   ],
   "source": [
    "reconciled_df.head()"
   ]
  },
  {
   "cell_type": "code",
   "execution_count": 3,
   "metadata": {},
   "outputs": [],
   "source": [
    "from src.processing.auto_category import load_categories\n",
    "from src.dashboard import *\n",
    "\n",
    "# load relevant data\n",
    "# df = reconciled_df\n",
    "categories = load_categories()\n",
    "\n",
    "outcome_categories = categories"
   ]
  },
  {
   "cell_type": "code",
   "execution_count": 4,
   "metadata": {},
   "outputs": [
    {
     "name": "stdout",
     "output_type": "stream",
     "text": [
      "/bin/bash: /home/tonso/code/01--personal/finance-tracker-v2/venv/bin/bokeh: /home/tonso/code/00_active/finance/venv/bin/python3: bad interpreter: No such file or directory\n"
     ]
    }
   ],
   "source": [
    "# from src.frame_csv import frame_dir\n",
    "# reconciled_dir = \"data/03_reconciled\"\n",
    "# reconciled_df = frame_dir(reconciled_dir)\n",
    "\n",
    "# from src.cashflow_dash import CashFlowDashboard\n",
    "# from bokeh.io import curdoc\n",
    "\n",
    "# dashboard = CashFlowDashboard(reconciled_df)\n",
    "# dashboard.run(curdoc())\n",
    "\n",
    "!bokeh serve --show src/cashflow_dash.py"
   ]
  },
  {
   "cell_type": "code",
   "execution_count": 5,
   "metadata": {},
   "outputs": [
    {
     "name": "stdout",
     "output_type": "stream",
     "text": [
      "/bin/bash: /home/tonso/code/01--personal/finance-tracker-v2/venv/bin/bokeh: /home/tonso/code/00_active/finance/venv/bin/python3: bad interpreter: No such file or directory\n"
     ]
    }
   ],
   "source": [
    "\n",
    "!bokeh serve --show src/category_dash.py"
   ]
  },
  {
   "cell_type": "code",
   "execution_count": null,
   "metadata": {},
   "outputs": [],
   "source": []
  }
 ],
 "metadata": {
  "kernelspec": {
   "display_name": "venv",
   "language": "python",
   "name": "python3"
  },
  "language_info": {
   "codemirror_mode": {
    "name": "ipython",
    "version": 3
   },
   "file_extension": ".py",
   "mimetype": "text/x-python",
   "name": "python",
   "nbconvert_exporter": "python",
   "pygments_lexer": "ipython3",
   "version": "3.10.12"
  }
 },
 "nbformat": 4,
 "nbformat_minor": 2
}
