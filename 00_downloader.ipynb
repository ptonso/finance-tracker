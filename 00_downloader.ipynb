{
 "cells": [
  {
   "cell_type": "markdown",
   "metadata": {},
   "source": [
    "# Data downloander\n",
    "\n",
    "- input:  external\n",
    "- output: `data/00_raw`\n",
    "\n",
    "For NuBank data, go to the mobile App, Extrato and then select the months to download.\n",
    "They will send you an email with the csv.\n",
    "\n",
    "If you want just to get started, manually download the csv inside `data/00_raw`, and you are good to go."
   ]
  },
  {
   "cell_type": "markdown",
   "metadata": {},
   "source": [
    "## google drive api\n",
    "\n",
    "You can add your extracts to a shared Google Drive folder.\n",
    "Then, you configure `.env` file with a variable\n",
    "DRIVE_EXTRACTS_ID = \"<folder_id>\"\n",
    "\n",
    "With that setup, you will be able to download the extracts from that folder:"
   ]
  },
  {
   "cell_type": "code",
   "execution_count": 1,
   "metadata": {},
   "outputs": [
    {
     "name": "stdout",
     "output_type": "stream",
     "text": [
      "Downloading files from drive...\n",
      "All extracted downloaded!\n"
     ]
    }
   ],
   "source": [
    "import os\n",
    "from src.sheets_api import download_extracts\n",
    "\n",
    "drive_folder_id = os.getenv(\"DRIVE_EXTRACTS_ID\")\n",
    "local_folder_path = \"data/00_raw\"\n",
    "\n",
    "# download all csv files that you added to your google drive folder.\n",
    "download_extracts(drive_folder_id, local_folder_path, debug=False)"
   ]
  },
  {
   "cell_type": "code",
   "execution_count": null,
   "metadata": {},
   "outputs": [],
   "source": []
  }
 ],
 "metadata": {
  "kernelspec": {
   "display_name": "venv",
   "language": "python",
   "name": "python3"
  },
  "language_info": {
   "codemirror_mode": {
    "name": "ipython",
    "version": 3
   },
   "file_extension": ".py",
   "mimetype": "text/x-python",
   "name": "python",
   "nbconvert_exporter": "python",
   "pygments_lexer": "ipython3",
   "version": "3.10.12"
  }
 },
 "nbformat": 4,
 "nbformat_minor": 2
}
