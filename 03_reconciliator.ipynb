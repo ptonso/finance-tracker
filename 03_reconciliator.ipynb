{
 "cells": [
  {
   "cell_type": "markdown",
   "metadata": {},
   "source": [
    "### Manual reconciliation\n",
    "\n",
    "input:  `data/02_categorized`\n",
    "output: `data/03_reconciled`\n",
    "\n",
    "here we will make sure that the balance is correct with your real bank account.\n",
    "\n",
    "Every end of month, you can check your bank acount and add the value to the dictionary. The function will use it to make sure that your extracts match your real bank balance."
   ]
  },
  {
   "cell_type": "code",
   "execution_count": 1,
   "metadata": {},
   "outputs": [
    {
     "name": "stdout",
     "output_type": "stream",
     "text": [
      "Processing bank: nubank\n",
      "Target balance for nubank in 2023-06 is None. Adding 0.0 reconciliation adjustment\n",
      "Bank: nubank, Month: 2023-06, Final Balance: 71.09, Adjustment: 0.00\n",
      "Target balance for nubank in 2023-07 is None. Adding 0.0 reconciliation adjustment\n",
      "Bank: nubank, Month: 2023-07, Final Balance: -203.42, Adjustment: 0.00\n",
      "Target balance for nubank in 2023-08 is None. Adding 0.0 reconciliation adjustment\n",
      "Bank: nubank, Month: 2023-08, Final Balance: 6022.88, Adjustment: 0.00\n",
      "Target balance for nubank in 2023-09 is None. Adding 0.0 reconciliation adjustment\n",
      "Bank: nubank, Month: 2023-09, Final Balance: 6236.15, Adjustment: 0.00\n",
      "Target balance for nubank in 2023-10 is None. Adding 0.0 reconciliation adjustment\n",
      "Bank: nubank, Month: 2023-10, Final Balance: 3424.54, Adjustment: 0.00\n",
      "Target balance for nubank in 2023-11 is None. Adding 0.0 reconciliation adjustment\n",
      "Bank: nubank, Month: 2023-11, Final Balance: 4412.90, Adjustment: 0.00\n",
      "Target balance for nubank in 2023-12 is None. Adding 0.0 reconciliation adjustment\n",
      "Bank: nubank, Month: 2023-12, Final Balance: 4720.57, Adjustment: 0.00\n",
      "Target balance for nubank in 2024-01 is None. Adding 0.0 reconciliation adjustment\n",
      "Bank: nubank, Month: 2024-01, Final Balance: 5850.07, Adjustment: 0.00\n",
      "Target balance for nubank in 2024-02 is None. Adding 0.0 reconciliation adjustment\n",
      "Bank: nubank, Month: 2024-02, Final Balance: 3543.45, Adjustment: 0.00\n",
      "Target balance for nubank in 2024-03 is None. Adding 0.0 reconciliation adjustment\n",
      "Bank: nubank, Month: 2024-03, Final Balance: -124.33, Adjustment: 0.00\n",
      "Target balance for nubank in 2024-04 is None. Adding 0.0 reconciliation adjustment\n",
      "Bank: nubank, Month: 2024-04, Final Balance: 8056.07, Adjustment: 0.00\n",
      "Target balance for nubank in 2024-05 is None. Adding 0.0 reconciliation adjustment\n",
      "Bank: nubank, Month: 2024-05, Final Balance: 7648.00, Adjustment: 0.00\n",
      "Target balance for nubank in 2024-06 is None. Adding 0.0 reconciliation adjustment\n",
      "Bank: nubank, Month: 2024-06, Final Balance: 7216.93, Adjustment: 0.00\n",
      "Target balance for nubank in 2024-07 is None. Adding 0.0 reconciliation adjustment\n",
      "Bank: nubank, Month: 2024-07, Final Balance: 8063.24, Adjustment: 0.00\n",
      "Target balance for nubank in 2024-08 is None. Adding 0.0 reconciliation adjustment\n",
      "Bank: nubank, Month: 2024-08, Final Balance: 6256.18, Adjustment: 0.00\n",
      "Target balance for nubank in 2024-09 is None. Adding 0.0 reconciliation adjustment\n",
      "Bank: nubank, Month: 2024-09, Final Balance: 4663.93, Adjustment: 0.00\n",
      "Target balance for nubank in 2024-10 is None. Adding 0.0 reconciliation adjustment\n",
      "Bank: nubank, Month: 2024-10, Final Balance: 3599.11, Adjustment: 0.00\n",
      "File not found for nubank in 2024-11: data/02_categorized/nubank_2024-11.csv\n",
      "File not found for nubank in 2024-12: data/02_categorized/nubank_2024-12.csv\n"
     ]
    }
   ],
   "source": [
    "# input the final balance of each month\n",
    "\n",
    "from src.reconcile import reconcile_balances, load_balances\n",
    "\n",
    "# None:  reconciliation transaction will be added with 0.0 value\n",
    "# float: reconciliation transaction will be added so that the end balance of the month became that float\n",
    "\n",
    "balances = load_balances()\n",
    "\n",
    "input_dir = \"data/02_categorized\"\n",
    "output_dir = \"data/03_reconciled\"\n",
    "\n",
    "reconcile_balances(balances, input_dir, output_dir)"
   ]
  },
  {
   "cell_type": "code",
   "execution_count": null,
   "metadata": {},
   "outputs": [],
   "source": []
  }
 ],
 "metadata": {
  "kernelspec": {
   "display_name": "venv",
   "language": "python",
   "name": "python3"
  },
  "language_info": {
   "codemirror_mode": {
    "name": "ipython",
    "version": 3
   },
   "file_extension": ".py",
   "mimetype": "text/x-python",
   "name": "python",
   "nbconvert_exporter": "python",
   "pygments_lexer": "ipython3",
   "version": "3.10.12"
  }
 },
 "nbformat": 4,
 "nbformat_minor": 2
}
