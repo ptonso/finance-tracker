{
 "cells": [
  {
   "cell_type": "markdown",
   "metadata": {},
   "source": [
    "## Categorization\n",
    "\n",
    "- input:  `data/01_cleaned`\n",
    "- output: `data/02_categorized`\n",
    "\n",
    "here we will perform automatic and manual categorization."
   ]
  },
  {
   "cell_type": "markdown",
   "metadata": {},
   "source": [
    "## Lookup categorization\n",
    "\n",
    "this process will use `category_lookup.json` to automatic categorize based on word match in `description`.\n",
    "update the `category_lookup.json` manually (but only once)"
   ]
  },
  {
   "cell_type": "code",
   "execution_count": null,
   "metadata": {},
   "outputs": [],
   "source": [
    "from src.auto_category import load_lookup_table, category_from_lookup\n",
    "\n",
    "lookup_table = load_lookup_table()\n",
    "\n",
    "print(lookup_table.keys())\n",
    "\n",
    "input_dir = \"data/01_cleaned\"\n",
    "output_dir = \"data/02_categorized\"\n",
    "\n",
    "category_from_lookup(input_dir, output_dir, lookup_table)\n"
   ]
  },
  {
   "cell_type": "markdown",
   "metadata": {},
   "source": [
    "## Interaction\n",
    "\n",
    "Here you can interact with the data for each month and perform surgical changes."
   ]
  },
  {
   "cell_type": "code",
   "execution_count": null,
   "metadata": {},
   "outputs": [],
   "source": [
    "\n",
    "from src.interaction import Interact\n",
    "\n",
    "# metaconfiguration\n",
    "input_dir = \"data/02_categorized\"\n",
    "output_dir = \"data/02_categorized\"\n",
    "\n",
    "month = \"2024-10\"\n",
    "\n",
    "cleaned_csv = f\"{input_dir}/nubank_{month}.csv\"\n",
    "categorized_csv = f\"{output_dir}/nubank_{month}.csv\"\n",
    "\n",
    "\n",
    "interact = Interact(cleaned_csv, categorized_csv)\n",
    "interact.category_editor()\n"
   ]
  },
  {
   "cell_type": "code",
   "execution_count": 3,
   "metadata": {},
   "outputs": [
    {
     "data": {
      "application/vnd.jupyter.widget-view+json": {
       "model_id": "3243ba35edcc4eae82cef4561e310147",
       "version_major": 2,
       "version_minor": 0
      },
      "text/plain": [
       "QgridWidget(grid_options={'fullWidthRows': True, 'syncColumnCellResize': True, 'forceFitColumns': True, 'defau…"
      ]
     },
     "metadata": {},
     "output_type": "display_data"
    }
   ],
   "source": [
    "import qgrid\n",
    "\n",
    "from src.frame_csv import frame_dir\n",
    "reconciled_dir = \"data/03_reconciled\"\n",
    "df = frame_dir(reconciled_dir)\n",
    "\n",
    "\n",
    "qgrid_widget = qgrid.show_grid(df, show_toolbar=True)\n",
    "qgrid_widget\n"
   ]
  },
  {
   "cell_type": "markdown",
   "metadata": {},
   "source": [
    "## Machine learning\n",
    "\n",
    "after gathering sufficient categorized data, we can use machine learning to  automate this process."
   ]
  },
  {
   "cell_type": "code",
   "execution_count": null,
   "metadata": {},
   "outputs": [],
   "source": [
    "from src.auto_category import CategoryClassifier\n",
    "\n",
    "csv_dir = \"data/02_categorized\"\n",
    "\n",
    "categorizer = CategoryClassifier(csv_dir)\n",
    "categorizer.train()\n",
    "categorizer.predict(inplace=False)\n"
   ]
  },
  {
   "cell_type": "code",
   "execution_count": null,
   "metadata": {},
   "outputs": [],
   "source": []
  }
 ],
 "metadata": {
  "kernelspec": {
   "display_name": "venv",
   "language": "python",
   "name": "python3"
  },
  "language_info": {
   "codemirror_mode": {
    "name": "ipython",
    "version": 3
   },
   "file_extension": ".py",
   "mimetype": "text/x-python",
   "name": "python",
   "nbconvert_exporter": "python",
   "pygments_lexer": "ipython3",
   "version": "3.10.12"
  }
 },
 "nbformat": 4,
 "nbformat_minor": 2
}
